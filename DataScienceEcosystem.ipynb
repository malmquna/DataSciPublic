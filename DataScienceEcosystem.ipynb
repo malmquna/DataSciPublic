{
 "cells": [
  {
   "cell_type": "markdown",
   "id": "57969deb",
   "metadata": {},
   "source": [
    "# Data Science Tools and Ecosystem"
   ]
  },
  {
   "cell_type": "markdown",
   "id": "e4155312",
   "metadata": {},
   "source": [
    "## Introduction:\n",
    "### This notebook summarizes the Data Science Tools and Ecosystem"
   ]
  },
  {
   "cell_type": "markdown",
   "id": "3ae4b8ee",
   "metadata": {},
   "source": [
    "**Objectives:**\n",
    "* List languages data scientists use\n",
    "* List libraries data scientists use\n",
    "* List tools data scientists use\n",
    "* Provide examples of arithmetic expressions\n",
    "* Include an authorship indication"
   ]
  },
  {
   "cell_type": "markdown",
   "id": "cfa1cc6f",
   "metadata": {},
   "source": [
    "## Some popular languages that Data Scientists use are:\n",
    "1. Python\n",
    "2. R\n",
    "3. Julia\n",
    "4. Perl\n",
    "5. Ruby\n",
    "6. C#"
   ]
  },
  {
   "cell_type": "markdown",
   "id": "2af9991b",
   "metadata": {},
   "source": [
    "## Commonly used libraries used by Data Scientists include:\n",
    "1. Caret\n",
    "2. Ggplot2\n",
    "3. NumPy\n",
    "4. Pandas\n",
    "5. Seaborn\n",
    "6. Bokeh"
   ]
  },
  {
   "cell_type": "markdown",
   "id": "ca4d1f7a",
   "metadata": {},
   "source": [
    "| Data Science Tools |\n",
    "---\n",
    "| R Studio |\n",
    "| Jupyter Notebooks |\n",
    "| GitHub |"
   ]
  },
  {
   "cell_type": "markdown",
   "id": "3e833c2f",
   "metadata": {},
   "source": [
    "### See below for a few examples of evaluating arithmetic expressions in Python"
   ]
  },
  {
   "cell_type": "code",
   "execution_count": 1,
   "id": "db98bfef",
   "metadata": {},
   "outputs": [
    {
     "data": {
      "text/plain": [
       "17"
      ]
     },
     "execution_count": 1,
     "metadata": {},
     "output_type": "execute_result"
    }
   ],
   "source": [
    "# This a simple arithmetic expression to mutiply then add integers\n",
    "(3*4)+5"
   ]
  },
  {
   "cell_type": "code",
   "execution_count": 7,
   "id": "5fbf173c",
   "metadata": {},
   "outputs": [
    {
     "data": {
      "text/plain": [
       "3.3333333333333335"
      ]
     },
     "execution_count": 7,
     "metadata": {},
     "output_type": "execute_result"
    }
   ],
   "source": [
    "# This will convert 200 minutes to hours by diving by 60\n",
    "200/60"
   ]
  },
  {
   "cell_type": "markdown",
   "id": "8a1d4543",
   "metadata": {},
   "source": [
    "## Author\n",
    "Nicholas Malmquist"
   ]
  },
  {
   "cell_type": "code",
   "execution_count": null,
   "id": "7103e452",
   "metadata": {},
   "outputs": [],
   "source": []
  }
 ],
 "metadata": {
  "kernelspec": {
   "display_name": "Python 3 (ipykernel)",
   "language": "python",
   "name": "python3"
  },
  "language_info": {
   "codemirror_mode": {
    "name": "ipython",
    "version": 3
   },
   "file_extension": ".py",
   "mimetype": "text/x-python",
   "name": "python",
   "nbconvert_exporter": "python",
   "pygments_lexer": "ipython3",
   "version": "3.11.5"
  }
 },
 "nbformat": 4,
 "nbformat_minor": 5
}
